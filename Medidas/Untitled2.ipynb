{
 "cells": [
  {
   "cell_type": "code",
   "execution_count": 2,
   "id": "df3fbabe",
   "metadata": {},
   "outputs": [],
   "source": [
    "import time \n",
    "import numpy as np\n",
    "from math import log\n",
    "from matplotlib import pyplot as plt\n",
    "from comando import comando\n",
    "from func_get_signal_osc import func_get_signal_osc"
   ]
  },
  {
   "cell_type": "code",
   "execution_count": 3,
   "id": "83053ef4",
   "metadata": {},
   "outputs": [],
   "source": [
    "# Nombres de los dispositivos\n",
    "nombre_gen = 'G01'  # Nombre del generador\n",
    "nombre_osc = 'O07'  # Nombre del osciloscopi"
   ]
  },
  {
   "cell_type": "code",
   "execution_count": 4,
   "id": "4956e40e",
   "metadata": {},
   "outputs": [
    {
     "name": "stdout",
     "output_type": "stream",
     "text": [
      "[1.0e+01 2.0e+01 3.0e+01 4.0e+01 5.0e+01 6.0e+01 7.0e+01 8.0e+01 9.0e+01\n",
      " 1.0e+02 1.1e+02 1.2e+02 1.3e+02 1.4e+02 1.5e+02 1.6e+02 1.7e+02 1.8e+02\n",
      " 1.9e+02 2.0e+02 2.1e+02 2.2e+02 2.3e+02 2.4e+02 2.5e+02 2.6e+02 2.7e+02\n",
      " 2.8e+02 2.9e+02 3.0e+02 3.1e+02 3.2e+02 3.3e+02 3.4e+02 3.5e+02 3.6e+02\n",
      " 3.7e+02 3.8e+02 3.9e+02 4.0e+02 4.1e+02 4.2e+02 4.3e+02 4.4e+02 4.5e+02\n",
      " 4.6e+02 4.7e+02 4.8e+02 4.9e+02 5.0e+02 5.1e+02 5.2e+02 5.3e+02 5.4e+02\n",
      " 5.5e+02 5.6e+02 5.7e+02 5.8e+02 5.9e+02 6.0e+02 6.1e+02 6.2e+02 6.3e+02\n",
      " 6.4e+02 6.5e+02 6.6e+02 6.7e+02 6.8e+02 6.9e+02 7.0e+02 7.1e+02 7.2e+02\n",
      " 7.3e+02 7.4e+02 7.5e+02 7.6e+02 7.7e+02 7.8e+02 7.9e+02 8.0e+02 8.1e+02\n",
      " 8.2e+02 8.3e+02 8.4e+02 8.5e+02 8.6e+02 8.7e+02 8.8e+02 8.9e+02 9.0e+02\n",
      " 9.1e+02 9.2e+02 9.3e+02 9.4e+02 9.5e+02 9.6e+02 9.7e+02 9.8e+02 9.9e+02\n",
      " 1.0e+03 2.0e+03 3.0e+03 4.0e+03 5.0e+03 6.0e+03 7.0e+03 8.0e+03 9.0e+03\n",
      " 1.0e+04 1.1e+04 1.2e+04 1.3e+04 1.4e+04 1.5e+04 1.6e+04 1.7e+04 1.8e+04\n",
      " 1.9e+04 2.0e+04 2.1e+04 2.2e+04 2.3e+04 2.4e+04 2.5e+04 2.6e+04 2.7e+04\n",
      " 2.8e+04 2.9e+04 3.0e+04 3.1e+04 3.2e+04 3.3e+04 3.4e+04 3.5e+04 3.6e+04\n",
      " 3.7e+04 3.8e+04 3.9e+04 4.0e+04 4.1e+04 4.2e+04 4.3e+04 4.4e+04 4.5e+04\n",
      " 4.6e+04 4.7e+04 4.8e+04 4.9e+04 5.0e+04 5.1e+04 5.2e+04 5.3e+04 5.4e+04\n",
      " 5.5e+04 5.6e+04 5.7e+04 5.8e+04 5.9e+04 6.0e+04 6.1e+04 6.2e+04 6.3e+04\n",
      " 6.4e+04 6.5e+04 6.6e+04 6.7e+04 6.8e+04 6.9e+04 7.0e+04 7.1e+04 7.2e+04\n",
      " 7.3e+04 7.4e+04 7.5e+04 7.6e+04 7.7e+04 7.8e+04 7.9e+04 8.0e+04 8.1e+04\n",
      " 8.2e+04 8.3e+04 8.4e+04 8.5e+04 8.6e+04 8.7e+04 8.8e+04 8.9e+04 9.0e+04\n",
      " 1.0e+05 2.0e+05 3.0e+05 4.0e+05 5.0e+05 6.0e+05 7.0e+05 8.0e+05 9.0e+05\n",
      " 1.0e+06]\n"
     ]
    }
   ],
   "source": [
    "# Parámetros de frecuencia\n",
    "f_min = 10  # Frecuencia mínima\n",
    "f_max = 990  # Frecuencia máxima\n",
    "df = 10  # Paso de frecuencia\n",
    "f = np.arange(f_min, f_max + df, df)  # Vector de frecuencias\n",
    "\n",
    "f_min = 1e3\n",
    "f_max = 0.9e5\n",
    "df= 1e3\n",
    "f =np.concatenate((f,np.arange(f_min, f_max + df, df)))\n",
    "\n",
    "f_min = 1e5\n",
    "f_max = 1e6\n",
    "df=1e5\n",
    "f =np.concatenate((f,np.arange(f_min, f_max + df, df)))\n",
    "print(f)"
   ]
  },
  {
   "cell_type": "code",
   "execution_count": 5,
   "id": "586e4bd2",
   "metadata": {},
   "outputs": [],
   "source": [
    "escalas_t = np.array([5, 2, 1, 5e-1 , 2e-1, 1e-1, 5e-2 , 2e-2, 1e-2, 5e-3, 2e-3, 1e-3, 5e-4 , 2e-4, 1e-4, 5e-5 , 2e-5, 1e-5, 5e-6 , 2e-6, 1e-6,0.5e-6])\n",
    "escalas_t = escalas_t[::-1]\n",
    "escalas_V = np.array([50e-3, 20e-3, 10e-3, 5e-3, 2e-3,1e-3,500e-6,200e-6,100e-6,50e-6,20e-6,10e-6])\n",
    "escalas_V = escalas_V[::-1]"
   ]
  },
  {
   "cell_type": "code",
   "execution_count": 6,
   "id": "f534e07c",
   "metadata": {},
   "outputs": [],
   "source": [
    "A = np.array([])  # Vector de amplitudes\n",
    "Phi = np.array([])  # Vector de fases\n",
    "f_osci = np.array([]) #Vector de frecuencias"
   ]
  },
  {
   "cell_type": "code",
   "execution_count": 12,
   "id": "b1f8a8fd",
   "metadata": {},
   "outputs": [
    {
     "name": "stdout",
     "output_type": "stream",
     "text": [
      "50MS\n"
     ]
    },
    {
     "ename": "ValueError",
     "evalue": "could not convert string to float: ''",
     "output_type": "error",
     "traceback": [
      "\u001b[1;31m---------------------------------------------------------------------------\u001b[0m",
      "\u001b[1;31mValueError\u001b[0m                                Traceback (most recent call last)",
      "Cell \u001b[1;32mIn[12], line 39\u001b[0m\n\u001b[0;32m     37\u001b[0m     amplitud \u001b[38;5;241m=\u001b[39m \u001b[38;5;28mfloat\u001b[39m(amplitud[\u001b[38;5;241m13\u001b[39m:j\u001b[38;5;241m-\u001b[39m\u001b[38;5;241m1\u001b[39m])\u001b[38;5;241m*\u001b[39m\u001b[38;5;241m1e-6\u001b[39m\n\u001b[0;32m     38\u001b[0m \u001b[38;5;28;01melif\u001b[39;00m amplitud[j] \u001b[38;5;241m==\u001b[39m \u001b[38;5;124m'\u001b[39m\u001b[38;5;124mV\u001b[39m\u001b[38;5;124m'\u001b[39m:\n\u001b[1;32m---> 39\u001b[0m     amplitud \u001b[38;5;241m=\u001b[39m \u001b[38;5;28;43mfloat\u001b[39;49m\u001b[43m(\u001b[49m\u001b[43mamplitud\u001b[49m\u001b[43m[\u001b[49m\u001b[38;5;241;43m13\u001b[39;49m\u001b[43m:\u001b[49m\u001b[43mj\u001b[49m\u001b[38;5;241;43m-\u001b[39;49m\u001b[38;5;241;43m1\u001b[39;49m\u001b[43m]\u001b[49m\u001b[43m)\u001b[49m\n\u001b[0;32m     40\u001b[0m j\u001b[38;5;241m=\u001b[39m\u001b[38;5;241m0\u001b[39m     \n\u001b[0;32m     41\u001b[0m \u001b[38;5;28;01mwhile\u001b[39;00m (amplitud \u001b[38;5;241m>\u001b[39m\u001b[38;5;241m=\u001b[39m \u001b[38;5;241m4\u001b[39m\u001b[38;5;241m*\u001b[39mescalas_V[j]): \u001b[38;5;66;03m#La amplitud no puede ser mas grande que 4 divisiones\u001b[39;00m\n",
      "\u001b[1;31mValueError\u001b[0m: could not convert string to float: ''"
     ]
    }
   ],
   "source": [
    "for freq in f:\n",
    "    indice = 0\n",
    "    while (10*escalas_t[indice] <= 2/freq): #Agarro la escala de tiempo que me muestre por lo menos dos peridodos de la onda\n",
    "        indice = indice + 1        \n",
    "    #Pongo las unidades de la frecuencia\n",
    "    if freq >= 1e3:\n",
    "        freq = str(int(freq/1e3)) + 'KHZ'\n",
    "    else:\n",
    "        freq = str(int(freq/1)) + 'HZ'\n",
    "        \n",
    "    #Instrucciones a el generador\n",
    "    #comando(nombre_gen,'BSMV WVTP, SINE ')\n",
    "    #comando(nombre_gen,'BSWV FRQ, '+ freq)\n",
    "    #comando(nombre_gen,'BSWV AMP, 1V')\n",
    "    #comando(nombre_gen,'BSWV PHSE, 0°')\n",
    "    \n",
    "    #unidades a la escala de tiempos del osciloscopio\n",
    "    if escalas_t[indice] < 1:\n",
    "        if escalas_t[indice] > 1e-3:\n",
    "            divisionT = str(int(escalas_t[indice]*1e3)) +'MS'\n",
    "        else:\n",
    "            divisionT = str(int(escalas_t[indice]*1e6)) +'US'\n",
    "    else:\n",
    "        divisionT = str(int(escalas_t[indice])) +'S'   \n",
    "    print(divisionT)\n",
    "    #Escala de tiempo al osciloscopio\n",
    "    #comando(nombre_osc, 'TDIV ' + divisionT)\n",
    "    \n",
    "    #Consulto la amplitud para ver que este bien la escala\n",
    "    amplitud = 'C1:PAVA AMPL 5.OOE-03V' #comando(nombre_osc,'C1:PAVA? AMPL')[13:] #Este comando me devuelve C1:PAVA AMPL 16.00E-03MV por ejemplo\n",
    "    j=0\n",
    "    while amplitud[j] != 'M' and amplitud[j] != 'U' and amplitud[j] != 'V': \n",
    "        j = j + 1\n",
    "    if amplitud[j] == 'M':\n",
    "        amplitud = float(amplitud[13:j-1])*1e-3\n",
    "    elif amplitud[j] == 'U':\n",
    "        amplitud = float(amplitud[13:j-1])*1e-6\n",
    "    elif amplitud[j] == 'V':\n",
    "        amplitud = float(amplitud[13:j-1])\n",
    "    j=0     \n",
    "    while (amplitud >= 4*escalas_V[j]): #La amplitud no puede ser mas grande que 4 divisiones\n",
    "        j = j + 1     \n",
    "        \n",
    "    escala_V = escalas_V[j]     #Registro la escala que necesito\n",
    "    \n",
    "    if escala_V < 1:\n",
    "        if escala_V > 1e-3:\n",
    "            escala_V = str(int(escala_V))*1e3 + 'MV'\n",
    "        if escala_V < 1e-3 and escala_V > 1-6:\n",
    "            escala_V = str(int(escala_V))*1e6 + 'UV'\n",
    "    else:\n",
    "        escala_V = str(int(escala_V)) + 'V'\n",
    "        \n",
    "    #comando(nombre_osc,'C1:Volt_DIV '+ escala_V)\n",
    "    time.sleep(4*escalas_t[indice])\n",
    "    #Falta calle de aca en adelante todavia\n",
    "    amplitud = 1 #comando(nombre_osc,'C1:PAVA? AMPL')\n",
    "    fase = 1 #comando(nombre_osc,'C1:PAVA? PHASE')\n",
    "    frecuencia = freq #comando(nombre_osc,'C1:PAVA? FREQ')\n",
    "    \n",
    "    #Registro la amplitud, fase y frecuencia\n",
    "    A = np.append(A,amplitud)\n",
    "    Phi = np.append(Phi,fase)\n",
    "    f_osci = np.append(f_osci,frecuencia)\n",
    "    "
   ]
  },
  {
   "cell_type": "code",
   "execution_count": null,
   "id": "4708bb11",
   "metadata": {},
   "outputs": [],
   "source": []
  }
 ],
 "metadata": {
  "kernelspec": {
   "display_name": "Python 3 (ipykernel)",
   "language": "python",
   "name": "python3"
  },
  "language_info": {
   "codemirror_mode": {
    "name": "ipython",
    "version": 3
   },
   "file_extension": ".py",
   "mimetype": "text/x-python",
   "name": "python",
   "nbconvert_exporter": "python",
   "pygments_lexer": "ipython3",
   "version": "3.10.9"
  }
 },
 "nbformat": 4,
 "nbformat_minor": 5
}
