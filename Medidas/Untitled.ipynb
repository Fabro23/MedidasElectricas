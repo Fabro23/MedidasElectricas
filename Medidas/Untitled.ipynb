{
 "cells": [
  {
   "cell_type": "code",
   "execution_count": 6,
   "id": "0ec2012e",
   "metadata": {},
   "outputs": [
    {
     "ename": "ValueError",
     "evalue": "Could not locate a VISA implementation. Install either the IVI binary or pyvisa-py.",
     "output_type": "error",
     "traceback": [
      "\u001b[1;31m---------------------------------------------------------------------------\u001b[0m",
      "\u001b[1;31mValueError\u001b[0m                                Traceback (most recent call last)",
      "Cell \u001b[1;32mIn[6], line 3\u001b[0m\n\u001b[0;32m      1\u001b[0m \u001b[38;5;28mid\u001b[39m \u001b[38;5;241m=\u001b[39m \u001b[38;5;124m'\u001b[39m\u001b[38;5;124mO06\u001b[39m\u001b[38;5;124m'\u001b[39m \u001b[38;5;66;03m#Id del osciloscopio\u001b[39;00m\n\u001b[0;32m      2\u001b[0m \u001b[38;5;66;03m# No se como poner la fuente de disparo, propongo apretar el boton del osciloscopio\u001b[39;00m\n\u001b[1;32m----> 3\u001b[0m \u001b[43mcomando\u001b[49m\u001b[43m(\u001b[49m\u001b[38;5;28;43mid\u001b[39;49m\u001b[43m,\u001b[49m\u001b[43m \u001b[49m\u001b[38;5;124;43m'\u001b[39;49m\u001b[38;5;124;43mTDIV 250US\u001b[39;49m\u001b[38;5;124;43m'\u001b[39;49m\u001b[43m)\u001b[49m \u001b[38;5;66;03m#250us\u001b[39;00m\n\u001b[0;32m      4\u001b[0m comando(\u001b[38;5;28mid\u001b[39m, \u001b[38;5;124m'\u001b[39m\u001b[38;5;124mC1:Volt_DIV 1V\u001b[39m\u001b[38;5;124m'\u001b[39m) \u001b[38;5;66;03m#1V/div\u001b[39;00m\n\u001b[0;32m      5\u001b[0m comando(\u001b[38;5;28mid\u001b[39m, \u001b[38;5;124m'\u001b[39m\u001b[38;5;124mTRIG_DELAY 0S\u001b[39m\u001b[38;5;124m'\u001b[39m)\n",
      "File \u001b[1;32m~\\Desktop\\Medidas\\comando.py:18\u001b[0m, in \u001b[0;36mcomando\u001b[1;34m(id, comand)\u001b[0m\n\u001b[0;32m     14\u001b[0m visaID \u001b[38;5;241m=\u001b[39m get_visa_address(\u001b[38;5;28mid\u001b[39m)\n\u001b[0;32m     16\u001b[0m \u001b[38;5;28;01mif\u001b[39;00m visaID \u001b[38;5;241m!=\u001b[39m \u001b[38;5;241m-\u001b[39m\u001b[38;5;241m1\u001b[39m:\n\u001b[1;32m---> 18\u001b[0m     rm \u001b[38;5;241m=\u001b[39m \u001b[43mvisa\u001b[49m\u001b[38;5;241;43m.\u001b[39;49m\u001b[43mResourceManager\u001b[49m\u001b[43m(\u001b[49m\u001b[43m)\u001b[49m\n\u001b[0;32m     19\u001b[0m     instrument \u001b[38;5;241m=\u001b[39m rm\u001b[38;5;241m.\u001b[39mopen_resource(visaID)\n\u001b[0;32m     21\u001b[0m     instrument\u001b[38;5;241m.\u001b[39mread_termination \u001b[38;5;241m=\u001b[39m \u001b[38;5;124m'\u001b[39m\u001b[38;5;130;01m\\n\u001b[39;00m\u001b[38;5;124m'\u001b[39m\n",
      "File \u001b[1;32m~\\AppData\\Local\\anaconda3\\lib\\site-packages\\pyvisa\\highlevel.py:2992\u001b[0m, in \u001b[0;36mResourceManager.__new__\u001b[1;34m(cls, visa_library)\u001b[0m\n\u001b[0;32m   2982\u001b[0m \u001b[38;5;124;03m\"\"\"Create a new resource manager tied to the specified VISA library.\u001b[39;00m\n\u001b[0;32m   2983\u001b[0m \n\u001b[0;32m   2984\u001b[0m \u001b[38;5;124;03mParameters\u001b[39;00m\n\u001b[1;32m   (...)\u001b[0m\n\u001b[0;32m   2989\u001b[0m \n\u001b[0;32m   2990\u001b[0m \u001b[38;5;124;03m\"\"\"\u001b[39;00m\n\u001b[0;32m   2991\u001b[0m \u001b[38;5;28;01mif\u001b[39;00m \u001b[38;5;129;01mnot\u001b[39;00m \u001b[38;5;28misinstance\u001b[39m(visa_library, VisaLibraryBase):\n\u001b[1;32m-> 2992\u001b[0m     visa_library \u001b[38;5;241m=\u001b[39m \u001b[43mopen_visa_library\u001b[49m\u001b[43m(\u001b[49m\u001b[43mvisa_library\u001b[49m\u001b[43m)\u001b[49m\n\u001b[0;32m   2994\u001b[0m \u001b[38;5;28;01mif\u001b[39;00m visa_library\u001b[38;5;241m.\u001b[39mresource_manager \u001b[38;5;129;01mis\u001b[39;00m \u001b[38;5;129;01mnot\u001b[39;00m \u001b[38;5;28;01mNone\u001b[39;00m:\n\u001b[0;32m   2995\u001b[0m     obj \u001b[38;5;241m=\u001b[39m visa_library\u001b[38;5;241m.\u001b[39mresource_manager\n",
      "File \u001b[1;32m~\\AppData\\Local\\anaconda3\\lib\\site-packages\\pyvisa\\highlevel.py:2899\u001b[0m, in \u001b[0;36mopen_visa_library\u001b[1;34m(specification)\u001b[0m\n\u001b[0;32m   2897\u001b[0m         wrapper \u001b[38;5;241m=\u001b[39m \u001b[38;5;124m\"\u001b[39m\u001b[38;5;124mivi\u001b[39m\u001b[38;5;124m\"\u001b[39m\n\u001b[0;32m   2898\u001b[0m     \u001b[38;5;28;01melse\u001b[39;00m:\n\u001b[1;32m-> 2899\u001b[0m         wrapper \u001b[38;5;241m=\u001b[39m \u001b[43m_get_default_wrapper\u001b[49m\u001b[43m(\u001b[49m\u001b[43m)\u001b[49m\n\u001b[0;32m   2901\u001b[0m \u001b[38;5;28mcls\u001b[39m \u001b[38;5;241m=\u001b[39m get_wrapper_class(wrapper)\n\u001b[0;32m   2903\u001b[0m \u001b[38;5;28;01mtry\u001b[39;00m:\n",
      "File \u001b[1;32m~\\AppData\\Local\\anaconda3\\lib\\site-packages\\pyvisa\\highlevel.py:2858\u001b[0m, in \u001b[0;36m_get_default_wrapper\u001b[1;34m()\u001b[0m\n\u001b[0;32m   2856\u001b[0m \u001b[38;5;28;01mexcept\u001b[39;00m \u001b[38;5;167;01mValueError\u001b[39;00m:\n\u001b[0;32m   2857\u001b[0m     logger\u001b[38;5;241m.\u001b[39mdebug(\u001b[38;5;124m\"\u001b[39m\u001b[38;5;124mDid not find pyvisa-py package\u001b[39m\u001b[38;5;124m\"\u001b[39m)\n\u001b[1;32m-> 2858\u001b[0m \u001b[38;5;28;01mraise\u001b[39;00m \u001b[38;5;167;01mValueError\u001b[39;00m(\n\u001b[0;32m   2859\u001b[0m     \u001b[38;5;124m\"\u001b[39m\u001b[38;5;124mCould not locate a VISA implementation. Install either the IVI binary or pyvisa-py.\u001b[39m\u001b[38;5;124m\"\u001b[39m\n\u001b[0;32m   2860\u001b[0m )\n",
      "\u001b[1;31mValueError\u001b[0m: Could not locate a VISA implementation. Install either the IVI binary or pyvisa-py."
     ]
    }
   ],
   "source": []
  },
  {
   "cell_type": "code",
   "execution_count": 7,
   "id": "80900001",
   "metadata": {},
   "outputs": [],
   "source": [
    "from comando import comando\n",
    "from func_get_signal_osc import func_get_signal_osc\n",
    "import matplotlib.pyplot as plt    \n",
    "import time\n"
   ]
  },
  {
   "cell_type": "code",
   "execution_count": 8,
   "id": "c3279721",
   "metadata": {},
   "outputs": [
    {
     "ename": "ValueError",
     "evalue": "Could not locate a VISA implementation. Install either the IVI binary or pyvisa-py.",
     "output_type": "error",
     "traceback": [
      "\u001b[1;31m---------------------------------------------------------------------------\u001b[0m",
      "\u001b[1;31mValueError\u001b[0m                                Traceback (most recent call last)",
      "Cell \u001b[1;32mIn[8], line 3\u001b[0m\n\u001b[0;32m      1\u001b[0m \u001b[38;5;66;03m#Configuro el generador de ondas\u001b[39;00m\n\u001b[0;32m      2\u001b[0m \u001b[38;5;28mid\u001b[39m \u001b[38;5;241m=\u001b[39m \u001b[38;5;124m'\u001b[39m\u001b[38;5;124mO07\u001b[39m\u001b[38;5;124m'\u001b[39m \u001b[38;5;66;03m#Aca va el id del generador;\u001b[39;00m\n\u001b[1;32m----> 3\u001b[0m \u001b[43mcomando\u001b[49m\u001b[43m(\u001b[49m\u001b[38;5;28;43mid\u001b[39;49m\u001b[43m,\u001b[49m\u001b[43m \u001b[49m\u001b[38;5;124;43m'\u001b[39;49m\u001b[38;5;124;43mBSWV FRQ, 1K\u001b[39;49m\u001b[38;5;124;43m'\u001b[39;49m\u001b[43m)\u001b[49m \u001b[38;5;66;03m#1kHz\u001b[39;00m\n\u001b[0;32m      4\u001b[0m comando(\u001b[38;5;28mid\u001b[39m, \u001b[38;5;124m'\u001b[39m\u001b[38;5;124mBSWV AMP, 3V\u001b[39m\u001b[38;5;124m'\u001b[39m)\n",
      "File \u001b[1;32m~\\Desktop\\Medidas\\comando.py:18\u001b[0m, in \u001b[0;36mcomando\u001b[1;34m(id, comand)\u001b[0m\n\u001b[0;32m     14\u001b[0m visaID \u001b[38;5;241m=\u001b[39m get_visa_address(\u001b[38;5;28mid\u001b[39m)\n\u001b[0;32m     16\u001b[0m \u001b[38;5;28;01mif\u001b[39;00m visaID \u001b[38;5;241m!=\u001b[39m \u001b[38;5;241m-\u001b[39m\u001b[38;5;241m1\u001b[39m:\n\u001b[1;32m---> 18\u001b[0m     rm \u001b[38;5;241m=\u001b[39m \u001b[43mvisa\u001b[49m\u001b[38;5;241;43m.\u001b[39;49m\u001b[43mResourceManager\u001b[49m\u001b[43m(\u001b[49m\u001b[43m)\u001b[49m\n\u001b[0;32m     19\u001b[0m     instrument \u001b[38;5;241m=\u001b[39m rm\u001b[38;5;241m.\u001b[39mopen_resource(visaID)\n\u001b[0;32m     21\u001b[0m     instrument\u001b[38;5;241m.\u001b[39mread_termination \u001b[38;5;241m=\u001b[39m \u001b[38;5;124m'\u001b[39m\u001b[38;5;130;01m\\n\u001b[39;00m\u001b[38;5;124m'\u001b[39m\n",
      "File \u001b[1;32m~\\AppData\\Local\\anaconda3\\lib\\site-packages\\pyvisa\\highlevel.py:2992\u001b[0m, in \u001b[0;36mResourceManager.__new__\u001b[1;34m(cls, visa_library)\u001b[0m\n\u001b[0;32m   2982\u001b[0m \u001b[38;5;124;03m\"\"\"Create a new resource manager tied to the specified VISA library.\u001b[39;00m\n\u001b[0;32m   2983\u001b[0m \n\u001b[0;32m   2984\u001b[0m \u001b[38;5;124;03mParameters\u001b[39;00m\n\u001b[1;32m   (...)\u001b[0m\n\u001b[0;32m   2989\u001b[0m \n\u001b[0;32m   2990\u001b[0m \u001b[38;5;124;03m\"\"\"\u001b[39;00m\n\u001b[0;32m   2991\u001b[0m \u001b[38;5;28;01mif\u001b[39;00m \u001b[38;5;129;01mnot\u001b[39;00m \u001b[38;5;28misinstance\u001b[39m(visa_library, VisaLibraryBase):\n\u001b[1;32m-> 2992\u001b[0m     visa_library \u001b[38;5;241m=\u001b[39m \u001b[43mopen_visa_library\u001b[49m\u001b[43m(\u001b[49m\u001b[43mvisa_library\u001b[49m\u001b[43m)\u001b[49m\n\u001b[0;32m   2994\u001b[0m \u001b[38;5;28;01mif\u001b[39;00m visa_library\u001b[38;5;241m.\u001b[39mresource_manager \u001b[38;5;129;01mis\u001b[39;00m \u001b[38;5;129;01mnot\u001b[39;00m \u001b[38;5;28;01mNone\u001b[39;00m:\n\u001b[0;32m   2995\u001b[0m     obj \u001b[38;5;241m=\u001b[39m visa_library\u001b[38;5;241m.\u001b[39mresource_manager\n",
      "File \u001b[1;32m~\\AppData\\Local\\anaconda3\\lib\\site-packages\\pyvisa\\highlevel.py:2899\u001b[0m, in \u001b[0;36mopen_visa_library\u001b[1;34m(specification)\u001b[0m\n\u001b[0;32m   2897\u001b[0m         wrapper \u001b[38;5;241m=\u001b[39m \u001b[38;5;124m\"\u001b[39m\u001b[38;5;124mivi\u001b[39m\u001b[38;5;124m\"\u001b[39m\n\u001b[0;32m   2898\u001b[0m     \u001b[38;5;28;01melse\u001b[39;00m:\n\u001b[1;32m-> 2899\u001b[0m         wrapper \u001b[38;5;241m=\u001b[39m \u001b[43m_get_default_wrapper\u001b[49m\u001b[43m(\u001b[49m\u001b[43m)\u001b[49m\n\u001b[0;32m   2901\u001b[0m \u001b[38;5;28mcls\u001b[39m \u001b[38;5;241m=\u001b[39m get_wrapper_class(wrapper)\n\u001b[0;32m   2903\u001b[0m \u001b[38;5;28;01mtry\u001b[39;00m:\n",
      "File \u001b[1;32m~\\AppData\\Local\\anaconda3\\lib\\site-packages\\pyvisa\\highlevel.py:2858\u001b[0m, in \u001b[0;36m_get_default_wrapper\u001b[1;34m()\u001b[0m\n\u001b[0;32m   2856\u001b[0m \u001b[38;5;28;01mexcept\u001b[39;00m \u001b[38;5;167;01mValueError\u001b[39;00m:\n\u001b[0;32m   2857\u001b[0m     logger\u001b[38;5;241m.\u001b[39mdebug(\u001b[38;5;124m\"\u001b[39m\u001b[38;5;124mDid not find pyvisa-py package\u001b[39m\u001b[38;5;124m\"\u001b[39m)\n\u001b[1;32m-> 2858\u001b[0m \u001b[38;5;28;01mraise\u001b[39;00m \u001b[38;5;167;01mValueError\u001b[39;00m(\n\u001b[0;32m   2859\u001b[0m     \u001b[38;5;124m\"\u001b[39m\u001b[38;5;124mCould not locate a VISA implementation. Install either the IVI binary or pyvisa-py.\u001b[39m\u001b[38;5;124m\"\u001b[39m\n\u001b[0;32m   2860\u001b[0m )\n",
      "\u001b[1;31mValueError\u001b[0m: Could not locate a VISA implementation. Install either the IVI binary or pyvisa-py."
     ]
    }
   ],
   "source": [
    "#Configuro el generador de ondas\n",
    "idg = 'O07' #Aca va el id del generador;\n",
    "comando(idg, 'BSWV FRQ, 1KHZ') #1kHz\n",
    "comando(idg, 'BSWV AMP, 3V') #6Vpp"
   ]
  },
  {
   "cell_type": "code",
   "execution_count": null,
   "id": "81e08293",
   "metadata": {},
   "outputs": [],
   "source": [
    "ido = 'O06' #Id del osciloscopio\n",
    "#Escala\n",
    "comando(ido, 'TDIV 250US') #250us\n",
    "comando(ido, 'C1:Volt_DIV 1V') #1V/div\n",
    "#Trigger\n",
    "comando(ido, 'TRIG_DELAY 0S') #0s delay\n",
    "comando(ido, 'TRIG_MODE NORM') #Modo normal\n",
    "comando(ido, 'TRIG_SELECT EDGE, SR, C1') #Elijo edge y C1\n"
   ]
  },
  {
   "cell_type": "code",
   "execution_count": null,
   "id": "17bca36f",
   "metadata": {},
   "outputs": [],
   "source": [
    "#Nivel de 0V\n",
    "comando(ido, 'C1:TRIG_LEVEL 0V')\n",
    "delay(1000)\n",
    "t,y = func_get_signal_osc('ido',1)\n",
    "plt.plot(t,y)\n",
    "plt.show()\n",
    "\n"
   ]
  },
  {
   "cell_type": "code",
   "execution_count": null,
   "id": "502d3889",
   "metadata": {},
   "outputs": [],
   "source": [
    "#Nivel de 3V\n",
    "comando(ido, 'C1:TRIG_LEVEL 3V')\n",
    "delay(1000)\n",
    "t,y = func_get_signal_osc('ido',1)\n",
    "plt.plot(t,y)\n",
    "plt.show()\n"
   ]
  },
  {
   "cell_type": "code",
   "execution_count": null,
   "id": "7b89a38b",
   "metadata": {},
   "outputs": [],
   "source": [
    "#Nivel de 3.5V\n",
    "comando(ido, 'C1:TRIG_LEVEL 3.5V')\n",
    "delay(1000)\n",
    "t,y = func_get_signal_osc('ido',1)\n",
    "plt.plot(t,y)\n",
    "plt.show()\n"
   ]
  },
  {
   "cell_type": "code",
   "execution_count": null,
   "id": "c7219f84",
   "metadata": {},
   "outputs": [],
   "source": [
    "#Set to 50%\n",
    "comando(ido,'SET50')\n",
    "delay(1000)\n",
    "t,y = func_get_signal_osc('ido',1)\n",
    "plt.plot(t,y)\n",
    "plt.show()\n"
   ]
  },
  {
   "cell_type": "code",
   "execution_count": null,
   "id": "e8dc670a",
   "metadata": {},
   "outputs": [],
   "source": [
    "#Cambio la base de tiempo\n",
    "comando(ido, 'TDIV 5US') #5us"
   ]
  },
  {
   "cell_type": "code",
   "execution_count": null,
   "id": "28baf4a1",
   "metadata": {},
   "outputs": [],
   "source": [
    "#Nivel de 0V\n",
    "comando(ido, 'C1:TRIG_LEVEL 0V')\n",
    "delay(1000)\n",
    "t,y = func_get_signal_osc('ido',1)\n",
    "plt.plot(t,y)\n",
    "plt.show()"
   ]
  },
  {
   "cell_type": "code",
   "execution_count": null,
   "id": "4ee70e65",
   "metadata": {},
   "outputs": [],
   "source": [
    "#Nivel de 3V\n",
    "comando(ido, 'C1:TRIG_LEVEL 3V')\n",
    "delay(1000)\n",
    "t,y = func_get_signal_osc('ido',1)\n",
    "plt.plot(t,y)\n",
    "plt.show()"
   ]
  },
  {
   "cell_type": "code",
   "execution_count": null,
   "id": "d19adf31",
   "metadata": {},
   "outputs": [],
   "source": [
    "#Nivel de 3.5V\n",
    "comando(ido, 'C1:TRIG_LEVEL 3.5V')\n",
    "delay(1000)\n",
    "t,y = func_get_signal_osc('ido',1)\n",
    "plt.plot(t,y)\n",
    "plt.show()"
   ]
  },
  {
   "cell_type": "code",
   "execution_count": null,
   "id": "950be78c",
   "metadata": {},
   "outputs": [],
   "source": [
    "#Set to 50%\n",
    "comando(ido,'SET50')\n",
    "delay(1000)\n",
    "t,y = func_get_signal_osc('ido',1)\n",
    "plt.plot(t,y)\n",
    "plt.show()\n"
   ]
  },
  {
   "cell_type": "code",
   "execution_count": null,
   "id": "abbd45fd",
   "metadata": {},
   "outputs": [],
   "source": [
    "#Parte 8\n",
    "comando(ido, 'TRIG_MODE AUTO') #Modo auto\n",
    "comando(idg, 'BSWV FRQ, 2HZ') #2Hz\n",
    "comando(ido, 'TDIV 1S') #1s la escala de tiempo, se deberian ver dos periodos\n",
    "delay(1000)\n",
    "t,y = func_get_signal_osc('ido',1)\n",
    "plt.plot(t,y)\n",
    "plt.show()\n"
   ]
  },
  {
   "cell_type": "code",
   "execution_count": null,
   "id": "3010ecab",
   "metadata": {},
   "outputs": [],
   "source": [
    "#Parte 9\n",
    "comando(idg, 'BSWV FRQ, 4MHZ') #4MHz\n",
    "delay(1000)\n",
    "t,y = func_get_signal_osc('ido',1)\n",
    "plt.plot(t,y)\n",
    "plt.show()\n",
    "#Cambio la escala del tiempo\n",
    "comando(ido, 'TDIV 125NS')\n",
    "delay(1000)\n",
    "t,y = func_get_signal_osc('ido',1)\n",
    "plt.plot(t,y)\n",
    "plt.show()"
   ]
  }
 ],
 "metadata": {
  "kernelspec": {
   "display_name": "Python 3 (ipykernel)",
   "language": "python",
   "name": "python3"
  },
  "language_info": {
   "codemirror_mode": {
    "name": "ipython",
    "version": 3
   },
   "file_extension": ".py",
   "mimetype": "text/x-python",
   "name": "python",
   "nbconvert_exporter": "python",
   "pygments_lexer": "ipython3",
   "version": "3.10.9"
  }
 },
 "nbformat": 4,
 "nbformat_minor": 5
}
